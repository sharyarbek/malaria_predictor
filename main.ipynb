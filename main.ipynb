{
 "cells": [
  {
   "cell_type": "code",
   "execution_count": 1,
   "id": "c440f43e",
   "metadata": {},
   "outputs": [],
   "source": [
    "import torch\n",
    "import torch.nn as nn\n",
    "import torch.nn.functional as F \n",
    "import torch.optim as optim\n",
    "from torch.utils.data import random_split, DataLoader\n",
    "\n",
    "from torchvision import datasets, transforms\n",
    "\n",
    "import matplotlib.pyplot as plt "
   ]
  },
  {
   "cell_type": "markdown",
   "id": "b99fe67b",
   "metadata": {},
   "source": [
    "##### Parametrs"
   ]
  },
  {
   "cell_type": "code",
   "execution_count": 2,
   "id": "a5451435",
   "metadata": {},
   "outputs": [],
   "source": [
    "DATA_DIR = 'C:/etc/ai/assignment_v2/cell_images'  \n",
    "BATCH_SIZE = 32\n",
    "LEARNING_RATE = 0.0001\n",
    "IMG_SIZE = 128  \n",
    "TRAIN_SPLIT = 0.8  # 80% for training\n",
    "VAL_SPLIT = 0.1\n",
    "EPOCHS = 50"
   ]
  },
  {
   "cell_type": "markdown",
   "id": "39205390",
   "metadata": {},
   "source": [
    "##### GPU"
   ]
  },
  {
   "cell_type": "code",
   "execution_count": 3,
   "id": "a37595e6",
   "metadata": {},
   "outputs": [
    {
     "name": "stdout",
     "output_type": "stream",
     "text": [
      "Using device: cuda\n"
     ]
    }
   ],
   "source": [
    "device = torch.device(\"cuda\" if torch.cuda.is_available() else \"cpu\")\n",
    "print(\"Using device:\", device)"
   ]
  },
  {
   "cell_type": "markdown",
   "id": "1719ac5f",
   "metadata": {},
   "source": [
    "##### Transform"
   ]
  },
  {
   "cell_type": "code",
   "execution_count": 4,
   "id": "0ab25de0",
   "metadata": {},
   "outputs": [],
   "source": [
    "train_transform = transforms.Compose([\n",
    "    transforms.Resize((IMG_SIZE, IMG_SIZE)),\n",
    "    transforms.RandomResizedCrop(IMG_SIZE, scale=(0.8,1.0), ratio=(0.9,1.1)),\n",
    "    transforms.RandomHorizontalFlip(),\n",
    "    transforms.RandomVerticalFlip(),\n",
    "    transforms.ColorJitter(brightness=0.2, contrast=0.2, saturation=0.2),\n",
    "    transforms.RandomRotation(20),\n",
    "    transforms.ToTensor(),\n",
    "    transforms.Normalize(mean=[0.5]*3, std=[0.5]*3)\n",
    "])\n",
    "\n",
    "test_transform = transforms.Compose([\n",
    "    transforms.Resize((IMG_SIZE, IMG_SIZE)),\n",
    "    transforms.ToTensor(),\n",
    "    transforms.Normalize(mean=[0.5]*3, std=[0.5]*3)\n",
    "])"
   ]
  },
  {
   "cell_type": "markdown",
   "id": "f10eb7fc",
   "metadata": {},
   "source": [
    "##### Dataset loading & Spitting into train/val/test\n"
   ]
  },
  {
   "cell_type": "code",
   "execution_count": 5,
   "id": "e9e520b1",
   "metadata": {},
   "outputs": [],
   "source": [
    "dataset = datasets.ImageFolder(root=DATA_DIR, transform=train_transform)"
   ]
  },
  {
   "cell_type": "code",
   "execution_count": 6,
   "id": "6763693f",
   "metadata": {},
   "outputs": [
    {
     "name": "stdout",
     "output_type": "stream",
     "text": [
      "Classes: ['Parasitized', 'Uninfected'] \n",
      "Sizes — train: 22046, val: 2755, test: 2757\n"
     ]
    }
   ],
   "source": [
    "total_size = len(dataset)\n",
    "\n",
    "train_size = int(TRAIN_SPLIT * total_size)\n",
    "remaining = total_size - train_size\n",
    "\n",
    "val_size = int(VAL_SPLIT * total_size)\n",
    "test_size = total_size - train_size - val_size\n",
    "\n",
    "train_ds, val_ds, test_ds = random_split(\n",
    "    dataset, [train_size, val_size, test_size]\n",
    ")\n",
    "\n",
    "val_ds.dataset.transform  = test_transform\n",
    "test_ds.dataset.transform = test_transform\n",
    "\n",
    "print(f\"Classes: {dataset.classes} \\nSizes — train: {len(train_ds)}, val: {len(val_ds)}, test: {len(test_ds)}\")\n",
    "\n",
    "\n",
    "train_loader = DataLoader(train_ds, batch_size=BATCH_SIZE, shuffle=True, num_workers=4, pin_memory=True)\n",
    "val_loader = DataLoader(val_ds, batch_size=BATCH_SIZE, shuffle=False, num_workers=4, pin_memory=True)\n",
    "test_loader = DataLoader(test_ds, batch_size=BATCH_SIZE, shuffle=False, num_workers=4, pin_memory=True)\n"
   ]
  },
  {
   "cell_type": "code",
   "execution_count": 7,
   "id": "7c29b29f",
   "metadata": {},
   "outputs": [],
   "source": [
    "class NeuralNet(nn.Module):\n",
    "    \n",
    "    def __init__(self):\n",
    "        super().__init__()\n",
    "        \n",
    "        self.conv1 = nn.Conv2d(3,32,5) # (128 - 5 ) * 3\n",
    "        self.bn1 = nn.BatchNorm2d(32)\n",
    "        self.pool =  nn.MaxPool2d(3, 3)\n",
    "        \n",
    "        self.conv2 = nn.Conv2d(32, 64, 5)\n",
    "        self.bn2 = nn.BatchNorm2d(64)\n",
    "        \n",
    "        ''' из-за оверфиттинга минусуем слой '''\n",
    "        # self.conv3 = nn.Conv2d(64, 128, 5)\n",
    "        # self.bn3 = nn.BatchNorm2d(128)\n",
    "        \n",
    "        self.dropout = nn.Dropout(p=0.5)\n",
    "        \n",
    "        self.fc1 = nn.Linear(64 * 12 * 12, 120)  # 64 instead of 128, also changing 2 to 12. \n",
    "        self.fc2 = nn.Linear(120, 84)\n",
    "        self.fc3 = nn.Linear(84, 2)\n",
    "        \n",
    "    def forward(self, x):\n",
    "        x = self.pool(F.relu(self.bn1(self.conv1(x))))\n",
    "        x = self.pool(F.relu(self.bn2(self.conv2(x))))\n",
    "        # x = self.pool(F.relu(self.bn3(self.conv3(x))))\n",
    "        x = torch.flatten(x, 1)\n",
    "        x = self.dropout(F.relu(self.fc1(x)))\n",
    "        x = self.dropout(F.relu(self.fc2(x)))\n",
    "        x = self.fc3(x)\n",
    "        return x"
   ]
  },
  {
   "cell_type": "code",
   "execution_count": 8,
   "id": "d43e0f9c",
   "metadata": {},
   "outputs": [],
   "source": [
    "net = NeuralNet().to(device)\n",
    "criterion = nn.CrossEntropyLoss()\n",
    "\n",
    "optimizer = optim.SGD(\n",
    "    net.parameters(), \n",
    "    lr=LEARNING_RATE, \n",
    "    momentum=0.9,\n",
    "    weight_decay=1e-4\n",
    ")\n",
    "\n",
    "scheduler = optim.lr_scheduler.StepLR(\n",
    "    optimizer,\n",
    "    step_size=20,\n",
    "    gamma= 0.5\n",
    ")"
   ]
  },
  {
   "cell_type": "markdown",
   "id": "3499fba4",
   "metadata": {},
   "source": [
    "##### Necessary for visualization"
   ]
  },
  {
   "cell_type": "code",
   "execution_count": 9,
   "id": "0d40e443",
   "metadata": {},
   "outputs": [],
   "source": [
    "# must be placed before training\n",
    "train_losses = []\n",
    "val_losses   = []\n",
    "val_accuracies = []"
   ]
  },
  {
   "cell_type": "markdown",
   "id": "dcef85cd",
   "metadata": {},
   "source": [
    "##### Training & Validation"
   ]
  },
  {
   "cell_type": "code",
   "execution_count": 10,
   "id": "cc53000f",
   "metadata": {},
   "outputs": [],
   "source": [
    "import copy \n",
    "best_acc = 0.0\n",
    "best_model_wts = copy.deepcopy(net.state_dict())"
   ]
  },
  {
   "cell_type": "code",
   "execution_count": 11,
   "id": "4899c17c",
   "metadata": {},
   "outputs": [
    {
     "name": "stdout",
     "output_type": "stream",
     "text": [
      "Epoch 01 | Train Loss: 0.6562 | Val Loss: 0.6005 | Val Acc: 0.6853 | LR: 1.0000e-04\n",
      "  ✨ New best val acc: 0.6853 — ModelCheckpoint\n",
      "Epoch 02 | Train Loss: 0.6054 | Val Loss: 0.5557 | Val Acc: 0.7274 | LR: 1.0000e-04\n",
      "  ✨ New best val acc: 0.7274 — ModelCheckpoint\n",
      "Epoch 03 | Train Loss: 0.5550 | Val Loss: 0.4937 | Val Acc: 0.7917 | LR: 1.0000e-04\n",
      "  ✨ New best val acc: 0.7917 — ModelCheckpoint\n",
      "Epoch 04 | Train Loss: 0.4890 | Val Loss: 0.3981 | Val Acc: 0.8283 | LR: 1.0000e-04\n",
      "  ✨ New best val acc: 0.8283 — ModelCheckpoint\n",
      "Epoch 05 | Train Loss: 0.3872 | Val Loss: 0.3022 | Val Acc: 0.8595 | LR: 1.0000e-04\n",
      "  ✨ New best val acc: 0.8595 — ModelCheckpoint\n",
      "Epoch 06 | Train Loss: 0.3009 | Val Loss: 0.2219 | Val Acc: 0.9078 | LR: 1.0000e-04\n",
      "  ✨ New best val acc: 0.9078 — ModelCheckpoint\n",
      "Epoch 07 | Train Loss: 0.2443 | Val Loss: 0.2048 | Val Acc: 0.9230 | LR: 1.0000e-04\n",
      "  ✨ New best val acc: 0.9230 — ModelCheckpoint\n",
      "Epoch 08 | Train Loss: 0.2196 | Val Loss: 0.1871 | Val Acc: 0.9350 | LR: 1.0000e-04\n",
      "  ✨ New best val acc: 0.9350 — ModelCheckpoint\n",
      "Epoch 09 | Train Loss: 0.2000 | Val Loss: 0.1730 | Val Acc: 0.9412 | LR: 1.0000e-04\n",
      "  ✨ New best val acc: 0.9412 — ModelCheckpoint\n",
      "Epoch 10 | Train Loss: 0.1887 | Val Loss: 0.1670 | Val Acc: 0.9416 | LR: 1.0000e-04\n",
      "  ✨ New best val acc: 0.9416 — ModelCheckpoint\n",
      "Epoch 11 | Train Loss: 0.1779 | Val Loss: 0.1723 | Val Acc: 0.9368 | LR: 1.0000e-04\n",
      "Epoch 12 | Train Loss: 0.1721 | Val Loss: 0.1626 | Val Acc: 0.9456 | LR: 1.0000e-04\n",
      "  ✨ New best val acc: 0.9456 — ModelCheckpoint\n",
      "Epoch 13 | Train Loss: 0.1654 | Val Loss: 0.1609 | Val Acc: 0.9441 | LR: 1.0000e-04\n",
      "Epoch 14 | Train Loss: 0.1642 | Val Loss: 0.1526 | Val Acc: 0.9499 | LR: 1.0000e-04\n",
      "  ✨ New best val acc: 0.9499 — ModelCheckpoint\n",
      "Epoch 15 | Train Loss: 0.1553 | Val Loss: 0.1526 | Val Acc: 0.9506 | LR: 1.0000e-04\n",
      "  ✨ New best val acc: 0.9506 — ModelCheckpoint\n",
      "Epoch 16 | Train Loss: 0.1517 | Val Loss: 0.1537 | Val Acc: 0.9474 | LR: 1.0000e-04\n",
      "Epoch 17 | Train Loss: 0.1511 | Val Loss: 0.1631 | Val Acc: 0.9408 | LR: 1.0000e-04\n",
      "Epoch 18 | Train Loss: 0.1461 | Val Loss: 0.1532 | Val Acc: 0.9481 | LR: 1.0000e-04\n",
      "Epoch 19 | Train Loss: 0.1451 | Val Loss: 0.1495 | Val Acc: 0.9499 | LR: 1.0000e-04\n",
      "Epoch 20 | Train Loss: 0.1391 | Val Loss: 0.1526 | Val Acc: 0.9459 | LR: 5.0000e-05\n",
      "Epoch 21 | Train Loss: 0.1390 | Val Loss: 0.1519 | Val Acc: 0.9470 | LR: 5.0000e-05\n",
      "Epoch 22 | Train Loss: 0.1342 | Val Loss: 0.1486 | Val Acc: 0.9543 | LR: 5.0000e-05\n",
      "  ✨ New best val acc: 0.9543 — ModelCheckpoint\n",
      "Epoch 23 | Train Loss: 0.1315 | Val Loss: 0.1515 | Val Acc: 0.9488 | LR: 5.0000e-05\n",
      "Epoch 24 | Train Loss: 0.1295 | Val Loss: 0.1526 | Val Acc: 0.9495 | LR: 5.0000e-05\n",
      "Epoch 25 | Train Loss: 0.1317 | Val Loss: 0.1523 | Val Acc: 0.9470 | LR: 5.0000e-05\n",
      "Epoch 26 | Train Loss: 0.1283 | Val Loss: 0.1530 | Val Acc: 0.9437 | LR: 5.0000e-05\n",
      "Epoch 27 | Train Loss: 0.1257 | Val Loss: 0.1483 | Val Acc: 0.9525 | LR: 5.0000e-05\n",
      "Epoch 28 | Train Loss: 0.1252 | Val Loss: 0.1541 | Val Acc: 0.9434 | LR: 5.0000e-05\n",
      "Epoch 29 | Train Loss: 0.1218 | Val Loss: 0.1496 | Val Acc: 0.9525 | LR: 5.0000e-05\n",
      "Epoch 30 | Train Loss: 0.1272 | Val Loss: 0.1474 | Val Acc: 0.9525 | LR: 5.0000e-05\n",
      "Epoch 31 | Train Loss: 0.1211 | Val Loss: 0.1518 | Val Acc: 0.9459 | LR: 5.0000e-05\n",
      "Epoch 32 | Train Loss: 0.1201 | Val Loss: 0.1433 | Val Acc: 0.9543 | LR: 5.0000e-05\n",
      "Epoch 33 | Train Loss: 0.1217 | Val Loss: 0.1451 | Val Acc: 0.9528 | LR: 5.0000e-05\n",
      "Epoch 34 | Train Loss: 0.1223 | Val Loss: 0.1451 | Val Acc: 0.9503 | LR: 5.0000e-05\n",
      "Epoch 35 | Train Loss: 0.1210 | Val Loss: 0.1448 | Val Acc: 0.9550 | LR: 5.0000e-05\n",
      "  ✨ New best val acc: 0.9550 — ModelCheckpoint\n",
      "Epoch 36 | Train Loss: 0.1184 | Val Loss: 0.1614 | Val Acc: 0.9437 | LR: 5.0000e-05\n",
      "Epoch 37 | Train Loss: 0.1196 | Val Loss: 0.1456 | Val Acc: 0.9517 | LR: 5.0000e-05\n",
      "Epoch 38 | Train Loss: 0.1168 | Val Loss: 0.1478 | Val Acc: 0.9492 | LR: 5.0000e-05\n",
      "Epoch 39 | Train Loss: 0.1162 | Val Loss: 0.1426 | Val Acc: 0.9510 | LR: 5.0000e-05\n",
      "Epoch 40 | Train Loss: 0.1147 | Val Loss: 0.1435 | Val Acc: 0.9550 | LR: 2.5000e-05\n",
      "Epoch 41 | Train Loss: 0.1101 | Val Loss: 0.1450 | Val Acc: 0.9514 | LR: 2.5000e-05\n",
      "Epoch 42 | Train Loss: 0.1108 | Val Loss: 0.1477 | Val Acc: 0.9517 | LR: 2.5000e-05\n",
      "Epoch 43 | Train Loss: 0.1103 | Val Loss: 0.1456 | Val Acc: 0.9532 | LR: 2.5000e-05\n",
      "Epoch 44 | Train Loss: 0.1089 | Val Loss: 0.1474 | Val Acc: 0.9514 | LR: 2.5000e-05\n",
      "Epoch 45 | Train Loss: 0.1070 | Val Loss: 0.1444 | Val Acc: 0.9506 | LR: 2.5000e-05\n",
      "Epoch 46 | Train Loss: 0.1066 | Val Loss: 0.1449 | Val Acc: 0.9521 | LR: 2.5000e-05\n",
      "Epoch 47 | Train Loss: 0.1055 | Val Loss: 0.1457 | Val Acc: 0.9546 | LR: 2.5000e-05\n",
      "Epoch 48 | Train Loss: 0.1069 | Val Loss: 0.1434 | Val Acc: 0.9506 | LR: 2.5000e-05\n",
      "Epoch 49 | Train Loss: 0.1071 | Val Loss: 0.1462 | Val Acc: 0.9506 | LR: 2.5000e-05\n",
      "Epoch 50 | Train Loss: 0.1050 | Val Loss: 0.1467 | Val Acc: 0.9528 | LR: 2.5000e-05\n"
     ]
    },
    {
     "data": {
      "text/plain": [
       "<All keys matched successfully>"
      ]
     },
     "execution_count": 11,
     "metadata": {},
     "output_type": "execute_result"
    }
   ],
   "source": [
    "for epoch in range(1, EPOCHS+1):\n",
    "    net.train()\n",
    "    train_loss = 0.0\n",
    "    \n",
    "    for inputs, labels in train_loader:\n",
    "        inputs, labels = inputs.to(device), labels.to(device)\n",
    "        optimizer.zero_grad()\n",
    "        loss = criterion(net(inputs), labels)\n",
    "        loss.backward()\n",
    "        optimizer.step()\n",
    "        train_loss += loss.item()\n",
    "    train_loss /= len(train_loader)\n",
    "    \n",
    "    # validation\n",
    "    net.eval()\n",
    "    val_loss = 0.0\n",
    "    correct  = 0\n",
    "    total    = 0\n",
    "    \n",
    "    with torch.no_grad():\n",
    "        for inputs, labels in val_loader:\n",
    "            inputs, labels = inputs.to(device), labels.to(device)\n",
    "            outputs = net(inputs)\n",
    "            val_loss += criterion(outputs, labels).item()\n",
    "            preds = outputs.argmax(1)\n",
    "            correct += (preds == labels).sum().item()\n",
    "            total += labels.size(0)\n",
    "    val_loss /= len(val_loader)\n",
    "    val_acc   = correct / total\n",
    "\n",
    "\n",
    "    # step of LR Scheduler\n",
    "    scheduler.step()\n",
    "    \n",
    "    print(f\"Epoch {epoch:02d} | Train Loss: {train_loss:.4f} | Val Loss: {val_loss:.4f} | Val Acc: {val_acc:.4f} | LR: {scheduler.get_last_lr()[0]:.4e}\")\n",
    "    \n",
    "    if val_acc > best_acc:\n",
    "        best_acc = val_acc\n",
    "        best_model_wts = copy.deepcopy(net.state_dict())\n",
    "        print(f\"  ✨ New best val acc: {best_acc:.4f} — ModelCheckpoint\")\n",
    "    \n",
    "    # at the end of each epoch\n",
    "    train_losses.append(train_loss)\n",
    "    val_losses.append(val_loss)\n",
    "    val_accuracies.append(val_acc)\n",
    " \n",
    "net.load_state_dict(best_model_wts)"
   ]
  },
  {
   "cell_type": "markdown",
   "id": "ea959a83",
   "metadata": {},
   "source": [
    "##### Visualization of Train_Loss / Val_Loss / Val_Acc"
   ]
  },
  {
   "cell_type": "code",
   "execution_count": 12,
   "id": "c4059d6c",
   "metadata": {},
   "outputs": [
    {
     "data": {
      "image/png": "[encoded data removed]",
      "text/plain": [
       "<Figure size 1200x500 with 2 Axes>"
      ]
     },
     "metadata": {},
     "output_type": "display_data"
    }
   ],
   "source": [
    "plt.figure(figsize=(12,5))\n",
    "\n",
    "# Loss\n",
    "plt.subplot(1, 2, 1)\n",
    "plt.plot(train_losses, label='Train Loss')\n",
    "plt.plot(val_losses,   label='Val Loss')\n",
    "plt.xlabel('Epoch')\n",
    "plt.ylabel('Loss')\n",
    "plt.title('Loss over Epochs')\n",
    "plt.legend()\n",
    "\n",
    "# Accuracy\n",
    "plt.subplot(1, 2, 2)\n",
    "plt.plot(val_accuracies, label='Val Accuracy', color='green')\n",
    "plt.xlabel('Epoch')\n",
    "plt.ylabel('Accuracy')\n",
    "plt.title('Validation Accuracy')\n",
    "plt.legend()\n",
    "\n",
    "plt.tight_layout()\n",
    "plt.savefig('./metrics/loss_acc_val_eval_v3.png')\n",
    "plt.show()\n"
   ]
  },
  {
   "cell_type": "markdown",
   "id": "c723bf78",
   "metadata": {},
   "source": [
    "##### Testing"
   ]
  },
  {
   "cell_type": "code",
   "execution_count": 13,
   "id": "731b8ba0",
   "metadata": {},
   "outputs": [
    {
     "name": "stdout",
     "output_type": "stream",
     "text": [
      "Test Accuracy: 0.9521\n"
     ]
    }
   ],
   "source": [
    "net.eval()\n",
    "correct = 0\n",
    "total   = 0\n",
    "with torch.no_grad():\n",
    "    for inputs, labels in test_loader:\n",
    "        inputs, labels = inputs.to(device), labels.to(device)\n",
    "        preds = net(inputs).argmax(1)\n",
    "        correct += (preds == labels).sum().item()\n",
    "        total   += labels.size(0)\n",
    "print(f\"Test Accuracy: {correct/total:.4f}\")"
   ]
  },
  {
   "cell_type": "markdown",
   "id": "9c87a07c",
   "metadata": {},
   "source": [
    "#### Saving our model"
   ]
  },
  {
   "cell_type": "code",
   "execution_count": 14,
   "id": "e305278f",
   "metadata": {},
   "outputs": [],
   "source": [
    "torch.save(net.state_dict(), 'best_trained_net_v3.pth')"
   ]
  },
  {
   "cell_type": "markdown",
   "id": "b963fca5",
   "metadata": {},
   "source": [
    "##### Loading the best model"
   ]
  },
  {
   "cell_type": "code",
   "execution_count": 15,
   "id": "3cfbee1c",
   "metadata": {},
   "outputs": [
    {
     "data": {
      "text/plain": [
       "<All keys matched successfully>"
      ]
     },
     "execution_count": 15,
     "metadata": {},
     "output_type": "execute_result"
    }
   ],
   "source": [
    "# execute the NeuralNet cell before loading\n",
    "net = NeuralNet()\n",
    "net.load_state_dict(torch.load('best_trained_net.pth'))"
   ]
  }
 ],
 "metadata": {
  "kernelspec": {
   "display_name": ".venv312",
   "language": "python",
   "name": "python3"
  },
  "language_info": {
   "codemirror_mode": {
    "name": "ipython",
    "version": 3
   },
   "file_extension": ".py",
   "mimetype": "text/x-python",
   "name": "python",
   "nbconvert_exporter": "python",
   "pygments_lexer": "ipython3",
   "version": "3.12.10"
  }
 },
 "nbformat": 4,
 "nbformat_minor": 5
}
